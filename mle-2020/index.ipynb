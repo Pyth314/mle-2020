{
 "cells": [
  {
   "cell_type": "code",
   "execution_count": null,
   "metadata": {},
   "outputs": [],
   "source": [
    "#hide\n",
    "import sys \n",
    "sys.path.insert(1,'./../')"
   ]
  },
  {
   "cell_type": "markdown",
   "metadata": {},
   "source": [
    "# Break down a notebook into _nbdev_ portable project\n",
    "\n",
    "> interview task: break down a notebook into a portable, collaborative & easily deployable project. "
   ]
  },
  {
   "cell_type": "markdown",
   "metadata": {},
   "source": [
    "The initial project is a recommendation tool that is ready to be deployed.\n",
    "\n",
    "\n",
    "Taking [this example](https://info.crunchydata.com/blog/recommendation_engine_in_postgres_with_pandas_and_python), we would like to deploy it server-side on our PostgreSQL server by embedding it into a simple python function.\n",
    "\n",
    "\n",
    "To deploy it according to the best practice we'll break it down into a [_nbdev_](https://nbdev.fast.ai) project. This will allow us to continue developing the core components of our recommendations with collaborative jupyter notebooks : \n",
    "* [features_store notebooks](https://github.com/Pyth314/mle-2020/blob/main/mle-2020/00_features_store.ipynb) : for getting cleaned data & features for our recommendations\n",
    "* [similarities](https://github.com/Pyth314/mle-2020/blob/main/mle-2020/01_similarities.ipynb) notebooks : where we develop the notions of similarity for our recommendations \n",
    "* [recommendation](https://github.com/Pyth314/mle-2020/blob/main/mle-2020/02_recommendation.ipynb): the way we deploy/access our recommendations"
   ]
  },
  {
   "cell_type": "markdown",
   "metadata": {},
   "source": [
    "## Install"
   ]
  },
  {
   "cell_type": "markdown",
   "metadata": {},
   "source": [
    "`pip install -e .`"
   ]
  },
  {
   "cell_type": "markdown",
   "metadata": {},
   "source": [
    "## How to use"
   ]
  },
  {
   "cell_type": "markdown",
   "metadata": {},
   "source": [
    "Getting the recommendation for `user_id 999` with the `dot_product_similarity`"
   ]
  },
  {
   "cell_type": "code",
   "execution_count": null,
   "metadata": {},
   "outputs": [],
   "source": [
    "from moviesrec.features_store import movies , ratings , users , genre_and_title_cols , genre_cols\n",
    "from moviesrec.similarities import dot_product_similarity\n",
    "from moviesrec.recommendation import get_recommendations"
   ]
  },
  {
   "cell_type": "code",
   "execution_count": null,
   "metadata": {},
   "outputs": [
    {
     "data": {
      "text/html": [
       "<div>\n",
       "<style scoped>\n",
       "    .dataframe tbody tr th:only-of-type {\n",
       "        vertical-align: middle;\n",
       "    }\n",
       "\n",
       "    .dataframe tbody tr th {\n",
       "        vertical-align: top;\n",
       "    }\n",
       "\n",
       "    .dataframe thead th {\n",
       "        text-align: right;\n",
       "    }\n",
       "</style>\n",
       "<table border=\"1\" class=\"dataframe\">\n",
       "  <thead>\n",
       "    <tr style=\"text-align: right;\">\n",
       "      <th></th>\n",
       "      <th>movie_id</th>\n",
       "      <th>title</th>\n",
       "      <th>similarity</th>\n",
       "    </tr>\n",
       "  </thead>\n",
       "  <tbody>\n",
       "    <tr>\n",
       "      <th>0</th>\n",
       "      <td>166</td>\n",
       "      <td>First Knight</td>\n",
       "      <td>2.0</td>\n",
       "    </tr>\n",
       "    <tr>\n",
       "      <th>2</th>\n",
       "      <td>1451</td>\n",
       "      <td>Smilla's Sense of Snow</td>\n",
       "      <td>2.0</td>\n",
       "    </tr>\n",
       "    <tr>\n",
       "      <th>3</th>\n",
       "      <td>503</td>\n",
       "      <td>Perfect World, A</td>\n",
       "      <td>2.0</td>\n",
       "    </tr>\n",
       "    <tr>\n",
       "      <th>4</th>\n",
       "      <td>3197</td>\n",
       "      <td>Man Bites Dog (C'est arriv� pr�s de chez vous)</td>\n",
       "      <td>2.0</td>\n",
       "    </tr>\n",
       "    <tr>\n",
       "      <th>5</th>\n",
       "      <td>1458</td>\n",
       "      <td>Devil's Own, The</td>\n",
       "      <td>2.0</td>\n",
       "    </tr>\n",
       "  </tbody>\n",
       "</table>\n",
       "</div>"
      ],
      "text/plain": [
       "   movie_id                                           title  similarity\n",
       "0       166                                    First Knight         2.0\n",
       "2      1451                          Smilla's Sense of Snow         2.0\n",
       "3       503                                Perfect World, A         2.0\n",
       "4      3197  Man Bites Dog (C'est arriv� pr�s de chez vous)         2.0\n",
       "5      1458                                Devil's Own, The         2.0"
      ]
     },
     "execution_count": null,
     "metadata": {},
     "output_type": "execute_result"
    }
   ],
   "source": [
    "get_recommendations(user_id=999 , similarity = dot_product_similarity(movies[genre_cols]))"
   ]
  }
 ],
 "metadata": {
  "kernelspec": {
   "display_name": "Python 3",
   "language": "python",
   "name": "python3"
  }
 },
 "nbformat": 4,
 "nbformat_minor": 4
}
